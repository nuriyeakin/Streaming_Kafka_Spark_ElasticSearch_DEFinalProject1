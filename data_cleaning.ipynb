{
 "cells": [
  {
   "cell_type": "code",
   "execution_count": 4,
   "id": "2ec78fe1-7ae9-4c1a-b17d-536b09494be4",
   "metadata": {
    "tags": []
   },
   "outputs": [],
   "source": [
    "import findspark\n",
    "findspark.init (\"/opt/manual/spark/\")\n",
    "\n",
    "from pyspark.sql import SparkSession, functions as F\n",
    "import pandas as pd\n",
    "import warnings\n",
    "from pyspark.sql.functions import input_file_name, to_timestamp"
   ]
  },
  {
   "cell_type": "code",
   "execution_count": 5,
   "id": "7f4c825f-53bd-48ce-9e7c-251e55184365",
   "metadata": {
    "tags": []
   },
   "outputs": [],
   "source": [
    "warnings.simplefilter(action='ignore')\n",
    "#display\n",
    "pd.set_option('display.max_columns',None)\n",
    "pd.set_option('display.max_rows',None)"
   ]
  },
  {
   "cell_type": "code",
   "execution_count": 6,
   "id": "15fdc6f3-b164-409a-bd43-bf3eaeab68e7",
   "metadata": {
    "tags": []
   },
   "outputs": [
    {
     "name": "stderr",
     "output_type": "stream",
     "text": [
      "WARNING: An illegal reflective access operation has occurred\n",
      "WARNING: Illegal reflective access by org.apache.spark.unsafe.Platform (file:/opt/manual/spark-3.1.1-bin-hadoop3.2/jars/spark-unsafe_2.12-3.1.1.jar) to constructor java.nio.DirectByteBuffer(long,int)\n",
      "WARNING: Please consider reporting this to the maintainers of org.apache.spark.unsafe.Platform\n",
      "WARNING: Use --illegal-access=warn to enable warnings of further illegal reflective access operations\n",
      "WARNING: All illegal access operations will be denied in a future release\n",
      "2023-07-04 21:14:00,149 WARN util.NativeCodeLoader: Unable to load native-hadoop library for your platform... using builtin-java classes where applicable\n",
      "Setting default log level to \"WARN\".\n",
      "To adjust logging level use sc.setLogLevel(newLevel). For SparkR, use setLogLevel(newLevel).\n"
     ]
    }
   ],
   "source": [
    "spark= SparkSession.builder \\\n",
    "    .appName(\"final_project\") \\\n",
    "    .master(\"local[2]\") \\\n",
    "    .enableHiveSupport() \\\n",
    "    .getOrCreate()\n",
    "\n",
    "spark.sparkContext.setLogLevel('ERROR')"
   ]
  },
  {
   "cell_type": "code",
   "execution_count": 7,
   "id": "a9d3f3cd-489e-4d6b-ba68-ee3f8fa470c6",
   "metadata": {
    "tags": []
   },
   "outputs": [
    {
     "name": "stderr",
     "output_type": "stream",
     "text": [
      "                                                                                \r"
     ]
    }
   ],
   "source": [
    "df = spark.read.format(\"csv\") \\\n",
    "    .option(\"header\",False) \\\n",
    "    .option(\"inferSchema\",True) \\\n",
    "    .option(\"sep\",\",\") \\\n",
    "    .load(\"file:///home/train/datasets/KETI/*/*.csv\") \\\n",
    "    .withColumn(\"file_name\", F.input_file_name()) \\\n",
    "    .withColumn(\"timestamp\",F.to_timestamp(\"_c0\")) \\\n",
    "    .withColumn(\"room\",F.element_at(F.reverse(F.split(F.col(\"file_name\"),\"/\")),2)) \\\n",
    "    .withColumn(\"sensor\",F.regexp_replace(F.element_at(F.reverse(F.split(F.col(\"file_name\"),\"/\")),1),\".csv\",\"\")) \\\n",
    "    .withColumnRenamed(\"_c0\",\"ts_min_bignt\") \\\n",
    "    .withColumnRenamed(\"_c1\",\"value\") \\\n",
    "    .drop(\"file_name\") \\\n",
    "    .select(\"timestamp\",\"ts_min_bignt\",\"value\",\"room\",\"sensor\")\n",
    "    "
   ]
  },
  {
   "cell_type": "code",
   "execution_count": 8,
   "id": "f7afb382-d6f9-439b-b22a-bf432d1e3c60",
   "metadata": {
    "tags": []
   },
   "outputs": [],
   "source": [
    "df_pir = df.filter(\"sensor == 'pir'\") \\\n",
    "    .withColumn(\"pir\",F.col(\"value\")) \\\n",
    "    .withColumn(\"room_pir\",F.col(\"room\")) \\\n",
    "    .withColumn(\"time_pir\",F.col(\"timestamp\")) \\\n",
    "    .withColumn(\"bignt_pir\",F.col(\"ts_min_bignt\")) \\\n",
    "    .drop(\"sensor\",\"value\",\"room\",\"timestamp\",\"ts_min_bignt\")\n"
   ]
  },
  {
   "cell_type": "code",
   "execution_count": 9,
   "id": "3961eb10-bb60-4262-b85a-acbfd429725f",
   "metadata": {
    "tags": []
   },
   "outputs": [],
   "source": [
    "df_light = df.filter(\"sensor == 'light'\") \\\n",
    "    .withColumn(\"light\",F.col(\"value\")) \\\n",
    "    .withColumn(\"room_light\",F.col(\"room\")) \\\n",
    "    .withColumn(\"time_light\",F.col(\"timestamp\")) \\\n",
    "    .withColumn(\"bignt_light\",F.col(\"ts_min_bignt\")) \\\n",
    "    .drop(\"sensor\",\"value\",\"room\",\"timestamp\",\"ts_min_bignt\")"
   ]
  },
  {
   "cell_type": "code",
   "execution_count": 10,
   "id": "b53c0b45-d2ce-4186-bde8-c01b2de8f0fb",
   "metadata": {
    "tags": []
   },
   "outputs": [],
   "source": [
    "df_humidity = df.filter(\"sensor == 'humidity'\") \\\n",
    "    .withColumn(\"humidity\",F.col(\"value\")) \\\n",
    "    .withColumn(\"room_humidity\",F.col(\"room\")) \\\n",
    "    .withColumn(\"time_humidity\",F.col(\"timestamp\")) \\\n",
    "    .withColumn(\"bignt_humidity\",F.col(\"ts_min_bignt\")) \\\n",
    "    .drop(\"sensor\",\"value\",\"room\",\"timestamp\",\"ts_min_bignt\")"
   ]
  },
  {
   "cell_type": "code",
   "execution_count": 11,
   "id": "013056f2-0fab-4f80-89e2-23253e71c116",
   "metadata": {
    "tags": []
   },
   "outputs": [],
   "source": [
    "df_co2 = df.filter(\"sensor == 'co2'\") \\\n",
    "    .withColumn(\"co2\",F.col(\"value\")) \\\n",
    "    .withColumn(\"room_co2\",F.col(\"room\")) \\\n",
    "    .withColumn(\"time_co2\",F.col(\"timestamp\")) \\\n",
    "    .withColumn(\"bignt_co2\",F.col(\"ts_min_bignt\")) \\\n",
    "    .drop(\"sensor\",\"value\",\"room\",\"timestamp\",\"ts_min_bignt\")"
   ]
  },
  {
   "cell_type": "code",
   "execution_count": 12,
   "id": "a6db25fa-6ec0-4348-ab5a-cd7c3d387992",
   "metadata": {
    "tags": []
   },
   "outputs": [],
   "source": [
    "df_temp = df.filter(\"sensor == 'temperature'\") \\\n",
    "    .withColumn(\"temp\",F.col(\"value\")) \\\n",
    "    .withColumn(\"room_temp\",F.col(\"room\")) \\\n",
    "    .withColumn(\"time_temp\",F.col(\"timestamp\")) \\\n",
    "    .withColumn(\"bignt_temp\",F.col(\"ts_min_bignt\")) \\\n",
    "    .drop(\"sensor\",\"value\",\"room\",\"timestamp\",\"ts_min_bignt\")"
   ]
  },
  {
   "cell_type": "code",
   "execution_count": 16,
   "id": "91fcfe46-648b-4134-abc4-673677b296cc",
   "metadata": {
    "tags": []
   },
   "outputs": [],
   "source": [
    "df2 = df_pir.join(df_co2,(df_pir[\"room_pir\"] == df_co2[\"room_co2\"]) & (df_pir[\"time_pir\"] == df_co2[\"time_co2\"]) & (df_pir[\"bignt_pir\"] == df_co2[\"bignt_co2\"]),\"inner\") \\\n",
    "                  .join(df_temp, (df_pir[\"room_pir\"] == df_temp[\"room_temp\"]) & (df_pir[\"time_pir\"] == df_temp[\"time_temp\"]) & (df_pir[\"bignt_pir\"] == df_temp[\"bignt_temp\"]),\"inner\") \\\n",
    "                  .join(df_light, (df_pir[\"room_pir\"] == df_light[\"room_light\"]) & (df_pir[\"time_pir\"] == df_light[\"time_light\"]) & (df_pir[\"bignt_pir\"] == df_light[\"bignt_light\"]),\"inner\") \\\n",
    "                  .join(df_humidity, (df_pir[\"room_pir\"] == df_humidity[\"room_humidity\"]) & (df_pir[\"time_pir\"] == df_humidity[\"time_humidity\"]) & (df_pir[\"bignt_pir\"] == df_humidity[\"bignt_humidity\"]),\"inner\") "
   ]
  },
  {
   "cell_type": "code",
   "execution_count": 17,
   "id": "92b3ca02-d8f3-42a5-9127-1d9d12420c7c",
   "metadata": {
    "tags": []
   },
   "outputs": [],
   "source": [
    "df3 = df2 \\\n",
    "    .withColumn(\"event_ts_min\",F.col(\"time_pir\")) \\\n",
    "    .withColumn(\"room\",F.col(\"room_pir\")) \\\n",
    "    .withColumn(\"ts_min_bignt\",F.col(\"bignt_pir\")) \\\n",
    "    .drop(\"value\",\"room_co2\",\"time_co2\",\"room_temp\",\"time_temp\",\"room_light\",\"time_light\",\"room_humidity\",\n",
    "          \"time_humidity\",\"time_pir\",\"room,pir\",\"bignt_pir\",\"bignt_light\",\"bignt_humidity\",\"bignt_temp\") \\\n",
    "    .select(\"event_ts_min\",\"ts_min_bignt\",\"room\",\"co2\",\"light\",\"temp\",\"humidity\",\"pir\")"
   ]
  },
  {
   "cell_type": "code",
   "execution_count": 18,
   "id": "7a028813-e983-4673-ba58-1e52ba28ee6f",
   "metadata": {
    "tags": []
   },
   "outputs": [
    {
     "name": "stderr",
     "output_type": "stream",
     "text": [
      "[Stage 9:>                                                          (0 + 1) / 1]\r"
     ]
    },
    {
     "name": "stdout",
     "output_type": "stream",
     "text": [
      "+-------------------+------------+----+-----+-----+-----+--------+----+\n",
      "|       event_ts_min|ts_min_bignt|room|  co2|light| temp|humidity| pir|\n",
      "+-------------------+------------+----+-----+-----+-----+--------+----+\n",
      "|2013-08-27 11:01:03|  1377590463| 413|451.0|  4.0|24.12|   45.28| 0.0|\n",
      "|2013-08-26 13:12:43|  1377511963| 415|473.0| 17.0|23.37|   55.23| 0.0|\n",
      "|2013-08-26 20:21:35|  1377537695| 415|472.0| 91.0| 23.1|   55.42| 0.0|\n",
      "|2013-08-26 23:29:36|  1377548976| 415|867.0| 51.0|24.04|   55.14|25.0|\n",
      "+-------------------+------------+----+-----+-----+-----+--------+----+\n",
      "only showing top 4 rows\n",
      "\n"
     ]
    },
    {
     "name": "stderr",
     "output_type": "stream",
     "text": [
      "                                                                                \r"
     ]
    }
   ],
   "source": [
    "df3.show(4)"
   ]
  },
  {
   "cell_type": "code",
   "execution_count": 19,
   "id": "dd37747d-0d90-4924-916d-188756c51c82",
   "metadata": {
    "tags": []
   },
   "outputs": [],
   "source": [
    "df4 = df3.orderBy(\"event_ts_min\")"
   ]
  },
  {
   "cell_type": "code",
   "execution_count": 20,
   "id": "eab854ff-6db1-46f4-a3f3-fc190e97a032",
   "metadata": {
    "tags": []
   },
   "outputs": [],
   "source": [
    "df5=df4.dropna()"
   ]
  },
  {
   "cell_type": "code",
   "execution_count": 21,
   "id": "cba74410-9b7e-4068-88cc-d55e96b713dc",
   "metadata": {
    "tags": []
   },
   "outputs": [
    {
     "name": "stderr",
     "output_type": "stream",
     "text": [
      "[Stage 15:====================================================> (195 + 2) / 200]\r"
     ]
    },
    {
     "name": "stdout",
     "output_type": "stream",
     "text": [
      "+-------------------+------------+----+-----+-----+-----+--------+----+\n",
      "|       event_ts_min|ts_min_bignt|room|  co2|light| temp|humidity| pir|\n",
      "+-------------------+------------+----+-----+-----+-----+--------+----+\n",
      "|2013-08-24 02:04:53|  1377299093| 511|387.0|252.0|22.62|   52.75| 0.0|\n",
      "|2013-08-24 02:04:57|  1377299097| 644|465.0|165.0| 22.8|    52.4| 0.0|\n",
      "|2013-08-24 02:04:57|  1377299097| 648|175.0|191.0|23.32|   50.32| 0.0|\n",
      "|2013-08-24 02:04:57|  1377299097|656A|579.0|176.0|24.37|    49.9|30.0|\n",
      "+-------------------+------------+----+-----+-----+-----+--------+----+\n",
      "only showing top 4 rows\n",
      "\n"
     ]
    },
    {
     "name": "stderr",
     "output_type": "stream",
     "text": [
      "                                                                                \r"
     ]
    }
   ],
   "source": [
    "df5.show(4)"
   ]
  },
  {
   "cell_type": "code",
   "execution_count": 22,
   "id": "3046997a-6276-4bd5-8bd4-b01c4ce2804c",
   "metadata": {
    "tags": []
   },
   "outputs": [
    {
     "name": "stderr",
     "output_type": "stream",
     "text": [
      "                                                                                \r"
     ]
    }
   ],
   "source": [
    "df5.coalesce(1).write \\\n",
    "    .format(\"csv\") \\\n",
    "    .mode(\"overwrite\") \\\n",
    "    .option(\"header\",\"true\") \\\n",
    "    .save(\"file:///home/train/datasets/final/dffinal\")"
   ]
  },
  {
   "cell_type": "code",
   "execution_count": null,
   "id": "0b4fe524-63aa-4ca1-b571-d4479fd57478",
   "metadata": {},
   "outputs": [],
   "source": []
  }
 ],
 "metadata": {
  "kernelspec": {
   "display_name": "venvspark",
   "language": "python",
   "name": "venvspark"
  },
  "language_info": {
   "codemirror_mode": {
    "name": "ipython",
    "version": 3
   },
   "file_extension": ".py",
   "mimetype": "text/x-python",
   "name": "python",
   "nbconvert_exporter": "python",
   "pygments_lexer": "ipython3",
   "version": "3.8.12"
  }
 },
 "nbformat": 4,
 "nbformat_minor": 5
}
